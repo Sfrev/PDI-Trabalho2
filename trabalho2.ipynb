{
 "cells": [
  {
   "cell_type": "markdown",
   "metadata": {},
   "source": [
    "# Análise experimental de complexidade da convolução espacial e por FFT\n",
    "\n",
    "Processamento Digital de Imagens\n",
    "\n",
    "Nomes: Igor Teixeira Machado RA: 769708\n",
    "Rafael Vinícius Passador RA: 790036"
   ]
  },
  {
   "cell_type": "markdown",
   "metadata": {},
   "source": [
    "* pip install numpy\n",
    "* python -m pip install -U matplotlib\n",
    "* pip install scipy"
   ]
  },
  {
   "cell_type": "code",
   "execution_count": 17,
   "metadata": {},
   "outputs": [],
   "source": [
    "import numpy as np\n",
    "import matplotlib.pyplot as plt\n",
    "from scipy import signal\n",
    "import timeit\n",
    "import random"
   ]
  },
  {
   "cell_type": "code",
   "execution_count": 18,
   "metadata": {},
   "outputs": [],
   "source": [
    "def random_matrix(n,m):\n",
    "    matrix = np.zeros((n,m))\n",
    "\n",
    "    for i in range(n):\n",
    "        for j in range(m):\n",
    "            matrix[i][j] = random.randint(0, 255)\n",
    "\n",
    "    return matrix"
   ]
  },
  {
   "cell_type": "code",
   "execution_count": 25,
   "metadata": {},
   "outputs": [
    {
     "name": "stdout",
     "output_type": "stream",
     "text": [
      "36.442505199986044 12.499905499978922\n"
     ]
    }
   ],
   "source": [
    "sinal = random_matrix(100, 100)\n",
    "filtro = random_matrix(3, 3)\n",
    "\n",
    "convolveDirect = timeit.timeit(lambda:signal.convolve(sinal, filtro, method='direct'), number=10000)\n",
    "convolveFFT = timeit.timeit(lambda:signal.convolve(sinal, filtro, method='fft'), number=10000)\n",
    "print(convolveDirect, convolveFFT)\n",
    "#plt.imshow(convolveDirect, 'gray') # convolucao espacial\n",
    "#plt.figure()\n",
    "#plt.imshow(convolveFFT, 'gray') # convolucao por FFT"
   ]
  }
 ],
 "metadata": {
  "kernelspec": {
   "display_name": "Python 3.10.5 64-bit",
   "language": "python",
   "name": "python3"
  },
  "language_info": {
   "codemirror_mode": {
    "name": "ipython",
    "version": 3
   },
   "file_extension": ".py",
   "mimetype": "text/x-python",
   "name": "python",
   "nbconvert_exporter": "python",
   "pygments_lexer": "ipython3",
   "version": "3.10.5"
  },
  "orig_nbformat": 4,
  "vscode": {
   "interpreter": {
    "hash": "8b6022ba405034b74f9b5b21ca76328d9d0717a9a5587ab98b729db4504980bb"
   }
  }
 },
 "nbformat": 4,
 "nbformat_minor": 2
}
